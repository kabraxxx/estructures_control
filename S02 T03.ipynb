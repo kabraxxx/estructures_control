{
 "cells": [
  {
   "cell_type": "markdown",
   "id": "85473e76",
   "metadata": {},
   "source": [
    "# S02 T03: Estructura de control #"
   ]
  },
  {
   "cell_type": "markdown",
   "id": "72b989c7",
   "metadata": {},
   "source": [
    "Comencem a familiaritzar-nos amb les estructures de control de Python"
   ]
  },
  {
   "cell_type": "markdown",
   "id": "283d62fc",
   "metadata": {},
   "source": [
    "## Nivell 1 ##"
   ]
  },
  {
   "cell_type": "markdown",
   "id": "8851d4c4",
   "metadata": {},
   "source": [
    "### - Exercici 1 ###"
   ]
  },
  {
   "cell_type": "markdown",
   "id": "cbbd518e",
   "metadata": {},
   "source": [
    "L'exercici consisteix a crear un programa que et classifiqui una variable numèrica en funció de l’escala Suspès/Aprovat/Notable/Excel·lent."
   ]
  },
  {
   "cell_type": "code",
   "execution_count": 16,
   "id": "73ee1fb8",
   "metadata": {},
   "outputs": [
    {
     "name": "stdout",
     "output_type": "stream",
     "text": [
      "Nota  7 = Notable\n"
     ]
    }
   ],
   "source": [
    "num = int(7)\n",
    "if var >= 9:\n",
    "    print(\"Nota \",num,\"= Excel·lent\")\n",
    "elif var >= 7:    \n",
    "    print(\"Nota \",num,\"= Notable\")\n",
    "elif var >= 5:    \n",
    "    print(\"Nota \",num,\"= Aprovat\")\n",
    "else:    \n",
    "    print(\"Nota \",num,\"= Suspes\")"
   ]
  },
  {
   "cell_type": "markdown",
   "id": "853b47df",
   "metadata": {},
   "source": [
    "### - Exercici 2 ###"
   ]
  },
  {
   "cell_type": "markdown",
   "id": "dd57f605",
   "metadata": {},
   "source": [
    "Utilitzant el següent tutorial Programiz: Python Input, Output and Import crea un programa que et pregunti dos números. T’ha de mostrar un missatge dient si el primer és més gran, el segon és més gran o són iguals."
   ]
  },
  {
   "cell_type": "code",
   "execution_count": 25,
   "id": "0b3e1396",
   "metadata": {},
   "outputs": [
    {
     "name": "stdout",
     "output_type": "stream",
     "text": [
      "Enter a number: 1\n",
      "Enter a number: 5\n",
      "1 es mes petit que 5\n"
     ]
    }
   ],
   "source": [
    "num1 = int(input(\"Enter a number: \"))\n",
    "num2 = int(input(\"Enter a number: \"))\n",
    "if num1 > num2:\n",
    "    print(num1,\"es mes gran que\", num2)\n",
    "elif num1 < num2:    \n",
    "    print(num1,\"es mes petit que\", num2)\n",
    "elif num1 == num2:    \n",
    "    print(num1,\"y\", num2, \"son iguals\")"
   ]
  },
  {
   "cell_type": "markdown",
   "id": "d0ed6ada",
   "metadata": {},
   "source": [
    "### - Exercici 3 ###"
   ]
  },
  {
   "cell_type": "markdown",
   "id": "298937c5",
   "metadata": {},
   "source": [
    "Crea un programa que et pregunti el teu nom, i et demani un número. Si el número és 0, hauria de mostrar un missatge d’error. En cas contrari, hauria de mostrar el nom repetit tants cops com indiqui el número. Per exemple, “Joan Joan Joan”."
   ]
  },
  {
   "cell_type": "code",
   "execution_count": 73,
   "id": "4f70b7cb",
   "metadata": {},
   "outputs": [
    {
     "name": "stdout",
     "output_type": "stream",
     "text": [
      "Enter your name: Dani\n",
      "Enter a number: 0\n"
     ]
    },
    {
     "ename": "Exception",
     "evalue": "El numero ha de se diferent a zero",
     "output_type": "error",
     "traceback": [
      "\u001b[1;31m---------------------------------------------------------------------------\u001b[0m",
      "\u001b[1;31mException\u001b[0m                                 Traceback (most recent call last)",
      "Input \u001b[1;32mIn [73]\u001b[0m, in \u001b[0;36m<cell line: 3>\u001b[1;34m()\u001b[0m\n\u001b[0;32m      2\u001b[0m num \u001b[38;5;241m=\u001b[39m \u001b[38;5;28mint\u001b[39m(\u001b[38;5;28minput\u001b[39m(\u001b[38;5;124m\"\u001b[39m\u001b[38;5;124mEnter a number: \u001b[39m\u001b[38;5;124m\"\u001b[39m))\n\u001b[0;32m      3\u001b[0m \u001b[38;5;28;01mif\u001b[39;00m num \u001b[38;5;241m==\u001b[39m \u001b[38;5;241m0\u001b[39m:\n\u001b[1;32m----> 4\u001b[0m     \u001b[38;5;28;01mraise\u001b[39;00m \u001b[38;5;167;01mException\u001b[39;00m(\u001b[38;5;124m\"\u001b[39m\u001b[38;5;124mEl numero ha de se diferent a zero\u001b[39m\u001b[38;5;124m\"\u001b[39m)\n\u001b[0;32m      5\u001b[0m \u001b[38;5;28;01melse\u001b[39;00m:\n\u001b[0;32m      6\u001b[0m     \u001b[38;5;28mprint\u001b[39m((name\u001b[38;5;241m+\u001b[39m\u001b[38;5;124m\"\u001b[39m\u001b[38;5;124m \u001b[39m\u001b[38;5;124m\"\u001b[39m)\u001b[38;5;241m*\u001b[39mnum)\n",
      "\u001b[1;31mException\u001b[0m: El numero ha de se diferent a zero"
     ]
    }
   ],
   "source": [
    "name = (input(\"Enter your name: \"))\n",
    "num = int(input(\"Enter a number: \"))\n",
    "if num == 0:\n",
    "    raise Exception(\"El numero ha de se diferent a zero\")\n",
    "else:\n",
    "    print((name+\" \")*num)"
   ]
  },
  {
   "cell_type": "markdown",
   "id": "7ea49d12",
   "metadata": {},
   "source": [
    "### - Exercici 4 ###"
   ]
  },
  {
   "cell_type": "markdown",
   "id": "92a8da57",
   "metadata": {},
   "source": [
    "Crea un programa que donada una llista qualsevol, et digui si es simètrica o no. Si ho és, que et digui quants elements té."
   ]
  },
  {
   "cell_type": "code",
   "execution_count": 54,
   "id": "76c55c30",
   "metadata": {},
   "outputs": [
    {
     "name": "stdout",
     "output_type": "stream",
     "text": [
      "[1, 2, 3, 2, 1]\n",
      "La llista [1, 2, 3, 2, 1] es simetrica\n",
      "La llista te 5 elemnts\n"
     ]
    }
   ],
   "source": [
    "lista=[1,2,3,2,1]\n",
    "print(lista)\n",
    "\n",
    "def simetrica(lista):\n",
    "    if (len(lista) == 1) or (len(lista) == 2):\n",
    "        if (lista[0] == lista[-1]):\n",
    "            return True\n",
    "    else:\n",
    "        if (lista[0] != lista[-1]):\n",
    "            return False\n",
    "        else: \n",
    "            return simetrica(lista[1:-1])\n",
    "        \n",
    "if (simetrica(lista)):\n",
    "    print(\"La llista\",lista,\"es simetrica\")\n",
    "    print(\"La llista te\",len(lista),\"elemnts\")\n",
    "else:\n",
    "    print(\"La llista\",lista,\"no es simetrica\")"
   ]
  },
  {
   "cell_type": "markdown",
   "id": "6699a2dd",
   "metadata": {},
   "source": [
    "### - Exercici 5 ###"
   ]
  },
  {
   "cell_type": "markdown",
   "id": "d9b9a3fe",
   "metadata": {},
   "source": [
    "Crea un programa que donada una llista, et digui quants números coincideixen amb la seva posició. Per exemple [3,4,2,0,2,3,6] el 2 i el 6 coincideixen."
   ]
  },
  {
   "cell_type": "code",
   "execution_count": 76,
   "id": "7b570477",
   "metadata": {
    "scrolled": true
   },
   "outputs": [
    {
     "name": "stdout",
     "output_type": "stream",
     "text": [
      "[3, 4, 2, 0, 2, 3, 6]\n",
      "[2, 6] coincideien\n"
     ]
    }
   ],
   "source": [
    "lista=[3,4,2,0,2,3,6]\n",
    "print(lista)\n",
    "coincideix=[]\n",
    "for x in range(len(lista)):\n",
    "    if (x == lista[x]):\n",
    "        coincideix.append(x)\n",
    "\n",
    "print(coincideix,\"coincideien\")\n"
   ]
  },
  {
   "cell_type": "code",
   "execution_count": null,
   "id": "51af711b",
   "metadata": {},
   "outputs": [],
   "source": []
  }
 ],
 "metadata": {
  "kernelspec": {
   "display_name": "Python 3 (ipykernel)",
   "language": "python",
   "name": "python3"
  },
  "language_info": {
   "codemirror_mode": {
    "name": "ipython",
    "version": 3
   },
   "file_extension": ".py",
   "mimetype": "text/x-python",
   "name": "python",
   "nbconvert_exporter": "python",
   "pygments_lexer": "ipython3",
   "version": "3.9.12"
  },
  "latex_envs": {
   "LaTeX_envs_menu_present": true,
   "autoclose": false,
   "autocomplete": true,
   "bibliofile": "biblio.bib",
   "cite_by": "apalike",
   "current_citInitial": 1,
   "eqLabelWithNumbers": true,
   "eqNumInitial": 1,
   "hotkeys": {
    "equation": "Ctrl-E",
    "itemize": "Ctrl-I"
   },
   "labels_anchors": false,
   "latex_user_defs": false,
   "report_style_numbering": false,
   "user_envs_cfg": false
  }
 },
 "nbformat": 4,
 "nbformat_minor": 5
}
